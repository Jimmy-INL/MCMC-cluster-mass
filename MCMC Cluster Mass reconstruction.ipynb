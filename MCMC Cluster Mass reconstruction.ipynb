{
 "cells": [
  {
   "cell_type": "markdown",
   "metadata": {},
   "source": [
    "<h1> Monte Carlo Markov Chains and Cluster Mass Reconstruction </h1>\n"
   ]
  },
  {
   "cell_type": "markdown",
   "metadata": {},
   "source": [
    "<h2> A small primer on classes in Python</h2>\n",
    "\n",
    "The following code consists of different modules, and each of them is written as a *class*. You can find some examples for class definitions in the following cell:"
   ]
  },
  {
   "cell_type": "code",
   "execution_count": 1,
   "metadata": {},
   "outputs": [],
   "source": [
    "#import some modules for math and integrations\n",
    "from scipy import integrate\n",
    "import numpy as np\n",
    "import timeit\n",
    "\n",
    "#define classes with constants used later\n",
    "class Constants:\n",
    "    \"\"\"\n",
    "    Defines fundamental physical constants.\n",
    "    \"\"\"\n",
    "    ckms = 3.0e5 # speed of light in km/s \n",
    "    rho_crit0 = 2.7751973751261264e11 # rho_crit(z=0) in units of h^-1 Msun/ h^-3 Mpc^3\n",
    "    G = 4.3e-9 # G in units of Mpc/Msun /(km/s)^2\n",
    "\n",
    "class Cosmology:\n",
    "    \"\"\"\n",
    "    Defines a flat LCDM background cosmology.\n",
    "    \"\"\"\n",
    "    Omega_m = 0.27\n",
    "    Omega_L = 1. - Omega_m #assumes flatness"
   ]
  },
  {
   "cell_type": "markdown",
   "metadata": {},
   "source": [
    "<h2>$\\chi^2$ Calculation</h2>\n",
    "\n",
    "This class contains all functions necessary to calculate the goodness-of-fit for a given set halo of mass and concentration $(M,c)$. We define the quadratic deviations from the measured shear values:\n",
    "\n",
    "$$ \\chi^2(M,c) = \\sum_i^N \\frac{(\\gamma_\\mathrm{theo, i}(M,c) - \\gamma_\\mathrm{dat, i})^2}{\\sigma^2_\\gamma} $$\n",
    "\n",
    "The theoretical shear values are calculated by assuming a Navarro-Frenk-White (NFW) density profile:\n",
    "\n",
    "$$ \\rho_\\mathrm{NFW}(r) = \\frac{\\delta_c \\rho_c}{(r/r_s)(1 + r/r_s)^2} \\: , $$\n",
    "\n",
    "which leads to\n",
    "\n",
    "$$ \\gamma(x_i) = \\frac{r_s(M,c) \\; \\delta_c(c) \\; \\rho_c(z_\\mathrm{lens})}{\\Sigma_c(z_\\mathrm{lens},z_\\mathrm{source})} g(x_i) \\: , $$\n",
    "\n",
    "\n",
    "where $g(x)$ is an auxiliary function for the dimensionless distance from the lens $x = \\theta/\\theta_s$. Take care, you have to distinguish $g(x)$ for the cases $x<0$ and $x>0$. When calculating $\\chi^2$, try not to write loops over the whole data array - they are quite slow in python. Numpy arrays however do support fast vectorized operations.\n",
    "\n",
    "Speed matters here. Try to optimise your $\\chi^2$ calculation, remember that this routine is called several thousand times when used as part of a chain. You can check your execution time with the `%timeit my_function(x,y,..)` command."
   ]
  },
  {
   "cell_type": "code",
   "execution_count": 2,
   "metadata": {},
   "outputs": [],
   "source": [
    "class ClusterLikelihood:\n",
    "    \n",
    "    def __init__(self):\n",
    "        \"\"\"\n",
    "        Initialise arrays and variables.\n",
    "        \"\"\"\n",
    "        # class variables\n",
    "        self.sigmashear = 0.3\n",
    "        self.zlens = 0.245\n",
    "        self.zsource = 1.0\n",
    "        self.rho_crit_zlens= Constants.rho_crit0 * self.E(self.zlens)**2\n",
    "        \n",
    "        # initialise arrays\n",
    "        \"\"\"\n",
    "        Note: the halo5.tab file including the shear data has to be in the same folder as this notebook,\n",
    "        or you can also adjust the path in np.loadtxt() to 'my/folder/halo5.tab'.\n",
    "        If the file is missing, download it here:\n",
    "        https://dmz-sv-owncloud.physik.uni-muenchen.de/public.php?service=files&t=fac80dcbbccd5258a0d4ae1f9921adb9\n",
    "        \"\"\"\n",
    "        self.data = np.loadtxt('halo5.tab')\n",
    "        self.THETADAT = self.data[:,3] # angular distance in arcmin\n",
    "        self.SHEARDAT = self.data[:,5] # measured shear signal\n",
    "        self.RDAT = self.angular_distance(self.zlens)*self.THETADAT*np.pi/180.0/60.0 # physical distance\n",
    "        \n",
    "        self.DATA = np.zeros((self.THETADAT.size,2))\n",
    "        self.DATA[:,0] = self.RDAT\n",
    "        self.DATA[:,1] = self.SHEARDAT\n",
    "\n",
    "    def E(self,z):\n",
    "        \"\"\"\n",
    "        Calculates the dimensionless Hubble function.\n",
    "\n",
    "        Parameters:\n",
    "        ----------\n",
    "        z : redshift\n",
    "\n",
    "        Returns:\n",
    "        ----------\n",
    "        E(z) : Dimensionless Hubble function E(z)=H(z)/H0\n",
    "        \"\"\"\n",
    "        E = np.sqrt(Cosmology.Omega_m*(1.+z)**3 + Cosmology.Omega_L)\n",
    "        return E\n",
    "\n",
    "    def angular_distance(self,z):\n",
    "        \"\"\"\n",
    "        Calculates angular diameter distances. Assumes a fixed LCDM cosmology\n",
    "        defined in the Cosmology class.\n",
    "\n",
    "        Parameters:\n",
    "        ----------\n",
    "        z : redshift\n",
    "\n",
    "        Returns :\n",
    "        ----------\n",
    "        d_A(z) : angular diameter distance in Mpc/h\n",
    "        \"\"\"\n",
    "        integral, error = integrate.quad(self.integrand_angular_distance,0.,z,epsrel=1e-4)\n",
    "        d_A = integral * Constants.ckms*1e-2/(1.+z)\n",
    "        return d_A\n",
    "\n",
    "    def integrand_angular_distance(self,z):\n",
    "        \"\"\"\n",
    "        Integrand for the angular diameter distance calculation.\n",
    "\n",
    "        Parameters:\n",
    "        ----------\n",
    "        z : redshift\n",
    "\n",
    "        Returns:\n",
    "        ----------\n",
    "        1./E(z) : Inverse dimensionless Hubble function 1./E(z)=H0/H(z)\n",
    "        \"\"\"\n",
    "        return 1./self.E(z)\n",
    "\n",
    "    def Sigma_critical(self,z_lens,z_source):\n",
    "        \"\"\"\n",
    "        Calculates the critical surface density.\n",
    "\n",
    "        Parameters:\n",
    "        ----------\n",
    "        z_lens    : lens redshift\n",
    "        z_source  : source redshift\n",
    "\n",
    "        Returns:\n",
    "        ----------\n",
    "        Sigmac : critical surface density\n",
    "        \"\"\"\n",
    "        D_source = self.angular_distance(z_source)\n",
    "        D_lens = self.angular_distance(z_lens)\n",
    "        D_lens_source = D_source - (1.0+z_lens)*D_lens/(1.+z_source)    \n",
    "        Sigmac = Constants.ckms**2*D_source/D_lens/D_lens_source/np.pi/Constants.G/4.\n",
    "        return Sigmac\n",
    "\n",
    "    def g_less(self,x):\n",
    "        \"\"\"\n",
    "        Auxiliary function g(x) for shear calculation, assumes x < 1.\n",
    "\n",
    "        Parameters:\n",
    "        ----------\n",
    "        x : array_like, dimensionless radial distance between source and lens\n",
    "\n",
    "        Returns:\n",
    "        ----------\n",
    "        result : array_like with same shape as x, analytic shear\n",
    "                 integral for a NFW density profile\n",
    "        \"\"\"\n",
    "        arctan = np.arctanh(np.sqrt((1.-x)/(1.+x)))\n",
    "        x_sq = x*x\n",
    "        term1 = 8.*arctan/x_sq/np.sqrt(1.-x**2) + 4./x_sq*np.log(x/2.) - 2./(x_sq-1)\n",
    "        result = (term1 + 4.*arctan/(x_sq-1.)/np.sqrt(1.-x_sq))\n",
    "        return result\n",
    "\n",
    "    def g_larger(self,x):\n",
    "        \"\"\"\n",
    "        Auxiliary function g(x) for shear calculation, assumes x > 1.\n",
    "\n",
    "        Parameters:\n",
    "        ----------\n",
    "        x : array_like, dimensionless radial distance between source and lens\n",
    "\n",
    "        Returns:\n",
    "        ----------\n",
    "        result : array_like with same shape as x, analytic shear\n",
    "                 integral for a NFW density profile\n",
    "        \"\"\"\n",
    "        arctan = np.arctan(np.sqrt((x-1.)/(1.+x)))\n",
    "        x_sq = x*x\n",
    "        term1 = 8.*arctan/x_sq/np.sqrt(x**2-1.) + 4./x_sq*np.log(x/2.) - 2./(x_sq-1)\n",
    "        result = (term1 + 4.*arctan/(x_sq-1.)**1.5)\n",
    "        return result\n",
    "\n",
    "    def chi_sq(self,M200,c200):\n",
    "        \"\"\"\n",
    "        Calculates chi**2 values.\n",
    "\n",
    "        Parameters:\n",
    "        ----------\n",
    "        M200 : Mass of the lens enclosed within a radius r200 where the mean density is 200 times\n",
    "               larger than the background matter density\n",
    "        c200 : Halo concentration at radius r200\n",
    "\n",
    "        Returns:\n",
    "        ----------\n",
    "        chi_sq : summed chi**2 values for all source galaxies\n",
    "        \"\"\"\n",
    "        x = self.RDAT/self.scale_radius_nfw(M200,c200)\n",
    "        \n",
    "        gamma_theor = (((self.scale_radius_nfw(M200,c200) * self.delta_c(c200) * self.rho_crit_zlens) \n",
    "                       / self.Sigma_critical(self.zlens,self.zsource))\n",
    "                    *np.append(self.g_less(x[x<1]),self.g_larger(x[x>1])))\n",
    "                        \n",
    "        \"\"\"\n",
    "        gamma_theor = (((self.scale_radius_nfw(M200,c200) * self.delta_c(c200) * self.rho_crit_zlens) \n",
    "                       / self.Sigma_critical(self.zlens,self.zsource))*\n",
    "                        np.where(x<1,self.g_less(x),self.g_larger(x)))\n",
    "        \"\"\"\n",
    "        chi_sq = np.sum((gamma_theor-np.append(self.SHEARDAT[x<1],self.SHEARDAT[x>1]))**2 / (self.sigmashear)**2)\n",
    "        return chi_sq\n",
    "        \"\"\"\n",
    "        Implement the chi**2 calculation here. Make use of the other functions already defined in this class.\n",
    "        Keep in mind that you can pass arrays to the g_larger/g_less functions to avoid loops wherever possible.\n",
    "        \"\"\"\n",
    "        \n",
    "\n",
    "    def scale_radius_nfw(self,M200,c200):\n",
    "        \"\"\"\n",
    "        Calculates scale radius of a NFW profile.\n",
    "\n",
    "        Parameters:\n",
    "        ----------\n",
    "        M200 : Mass of the lens enclosed within a radius r200 where the mean density is 200 times\n",
    "               larger than the background matter density\n",
    "        c200 : Halo concentration at radius r200\n",
    "\n",
    "        Returns:\n",
    "        ----------\n",
    "        r_s : scale radius\n",
    "        \"\"\"            \n",
    "        r_s = (3.0*M200/800.0/np.pi/self.rho_crit_zlens/c200**3)**(1./3.)\n",
    "        return r_s\n",
    "\n",
    "    def delta_c(self,c200):\n",
    "        \"\"\"\n",
    "        Calculates the central density contrast for a NFW profile.\n",
    "\n",
    "        Parameters:\n",
    "        ----------\n",
    "        c200 : Halo concentration at radius r200\n",
    "\n",
    "        Returns:\n",
    "        ----------\n",
    "        delta_c : central density contrast \n",
    "        \"\"\"    \n",
    "        delta_c = 200.*c200**3/(np.log(1.+c200) - c200/(1.+c200))/3.\n",
    "        return delta_c\n"
   ]
  },
  {
   "cell_type": "code",
   "execution_count": 3,
   "metadata": {},
   "outputs": [],
   "source": [
    "my_instance = ClusterLikelihood()\n",
    "#%timeit my_instance.chi_sq(1e14,5)"
   ]
  },
  {
   "cell_type": "code",
   "execution_count": 4,
   "metadata": {},
   "outputs": [
    {
     "name": "stdout",
     "output_type": "stream",
     "text": [
      "149 ms ± 3.63 ms per loop (mean ± std. dev. of 7 runs, 10 loops each)\n"
     ]
    }
   ],
   "source": [
    "%timeit my_instance.chi_sq(1e14,5)"
   ]
  },
  {
   "cell_type": "code",
   "execution_count": 5,
   "metadata": {},
   "outputs": [],
   "source": [
    "import matplotlib.pyplot as plt\n",
    "import numpy as np\n",
    "from numpy import ma\n",
    "from matplotlib import colors, ticker, cm\n",
    "\n",
    "grid_size = 50\n",
    "M_grid = np.linspace(14, 16, grid_size)\n",
    "C_grid = np.linspace(2, 10, grid_size)\n",
    "\n",
    "M, C = np.meshgrid(M_grid, C_grid)\n",
    "\n",
    "chi_sq = np.zeros([grid_size, grid_size])\n",
    "\n",
    "for i in range(grid_size):\n",
    "    for j in range(grid_size):\n",
    "        chi_sq[i,j] = my_instance.chi_sq(10**M_grid[i],C_grid[j])"
   ]
  },
  {
   "cell_type": "code",
   "execution_count": 6,
   "metadata": {},
   "outputs": [
    {
     "data": {
      "image/png": "[encoded data removed]",
      "text/plain": [
       "<Figure size 432x288 with 2 Axes>"
      ]
     },
     "metadata": {
      "needs_background": "light"
     },
     "output_type": "display_data"
    }
   ],
   "source": [
    "#chi_sq values are heavily concentrated around the minimum, hence the values are scaled by log(chi_sq-min(chi_sq)+1) in order to make a 2d plot\n",
    "fig, ax = plt.subplots()\n",
    "cs = ax.contourf(M,C, np.transpose(chi_sq-np.min(chi_sq)+0.1), locator=ticker.LogLocator(), cmap=cm.PuBu_r)\n",
    "cbar = fig.colorbar(cs)\n",
    "plt.xlabel('logM')\n",
    "plt.ylabel('c')\n",
    "cbar.set_label('chi_sq - min(chi_sq) + 0.1', rotation=270)\n",
    "plt.show()"
   ]
  },
  {
   "cell_type": "code",
   "execution_count": 8,
   "metadata": {},
   "outputs": [
    {
     "name": "stdout",
     "output_type": "stream",
     "text": [
      "Values of logM and c where Chi_Square is Minimum are: 14.979591836734693 2.6530612244897958\n"
     ]
    }
   ],
   "source": [
    "for i in range(grid_size):\n",
    "    for j in range(grid_size):\n",
    "        if chi_sq[i,j] == np.min(chi_sq):\n",
    "            print ('Values of logM and c where Chi_Square is Minimum are:', M_grid[i], C_grid[j])"
   ]
  },
  {
   "cell_type": "code",
   "execution_count": 9,
   "metadata": {},
   "outputs": [
    {
     "data": {
      "image/png": "[encoded data removed]",
      "text/plain": [
       "<Figure size 432x288 with 2 Axes>"
      ]
     },
     "metadata": {
      "needs_background": "light"
     },
     "output_type": "display_data"
    }
   ],
   "source": [
    "prob = np.exp(-0.5*np.log(chi_sq - np.min(chi_sq)+0.1))\n",
    "fig, ax = plt.subplots()\n",
    "cs = ax.contourf(M,C, np.transpose(prob), locator=ticker.LogLocator(), cmap=cm.PuBu_r)\n",
    "cbar = fig.colorbar(cs)\n",
    "plt.xlabel('logM')\n",
    "plt.ylabel('c')\n",
    "cbar.set_label('∝ prob', rotation=270)\n",
    "plt.show()"
   ]
  },
  {
   "cell_type": "markdown",
   "metadata": {},
   "source": [
    "Now implement a loop over $M$ and $c$ to estimate the minimal $\\chi^2$ (this is called a grid search). Plot your results to get a rough idea for the shape of the $\\chi^2$-distribution (note that this is equivalent to a Gaussian likelihood)."
   ]
  },
  {
   "cell_type": "markdown",
   "metadata": {},
   "source": [
    "<h2>Metropolis Hastings Algorithm</h2>"
   ]
  },
  {
   "cell_type": "code",
   "execution_count": 10,
   "metadata": {},
   "outputs": [],
   "source": [
    "class Sampler(ClusterLikelihood):\n",
    "    \n",
    "    def __init__(self):\n",
    "        \"\"\"\n",
    "        Initialise Likelihood class and define allowed parameter range with their covariance.\n",
    "        \"\"\"\n",
    "        ClusterLikelihood.__init__(self)\n",
    "        # set priors on allowed (log10(M), c) range. Note: sampling in log10(M)\n",
    "        self.parmin = [10,0.1]\n",
    "        self.parmax = [20,10]\n",
    "        # covariance matrix: feel free to play around with these values\n",
    "        self.cov = np.diag((0.1,0.1))\n",
    "        # initial values: randomly chosen in the allowed parameter range\n",
    "        self.params = np.random.uniform(self.parmin,self.parmax)\n",
    "        \n",
    "        \n",
    "    def check_param_range(self,x):\n",
    "        \"\"\"\n",
    "        Check if current parameter vector x is in the allowed range.\n",
    "        \"\"\"\n",
    "        for index, aux in enumerate(x):\n",
    "            if aux > self.parmax[index]:\n",
    "                x[index] = self.parmax[index]\n",
    "            if aux < self.parmin[index]:\n",
    "                x[index] = self.parmin[index]\n",
    "\n",
    "    def MCMC(self,NSTEP,filename='chain.txt',write_file=False):\n",
    "        \"\"\"\n",
    "        Runs a Monte Carlo Markov Chain.\n",
    "\n",
    "        Parameters:\n",
    "        ----------\n",
    "        NSTEP      : int\n",
    "                     Number of chain steps (including not accepted ones)\n",
    "        filename   : string, optional\n",
    "                     Name of data output file\n",
    "        write_file : bool, optional\n",
    "                     Control if the chain should be printed to the screen (default: write_file = False)\n",
    "                     or saved to a file specified by 'filename' (default: chain.txt)\n",
    "        \"\"\"    \n",
    "        #open file to write chain and write header\n",
    "        if write_file == True:\n",
    "            chain = open(filename,'w')\n",
    "            chain.write(\"#counter multiplicity chi**2 M200 c200 a b\\n\")\n",
    "        multiplicity = 1\n",
    "        counter = 0\n",
    "        old_chi_sq = self.chi_sq(10.**self.params[0], self.params[1])\n",
    "        for i in range(NSTEP):\n",
    "            #draw a new parameter vector\n",
    "            self.newparams = np.random.multivariate_normal(self.params,self.cov)\n",
    "            self.check_param_range(self.newparams)\n",
    "            new_chi_sq = self.chi_sq(10.**self.newparams[0], self.newparams[1])\n",
    "            b = np.random.uniform(0,1)\n",
    "            a = np.exp(-0.5*(new_chi_sq-old_chi_sq))\n",
    "            if np.min([1,a])>=b:\n",
    "                self.params = self.newparams\n",
    "                old_chi_sq = new_chi_sq\n",
    "                multiplicity = 1\n",
    "            elif np.min([1,a])<b:\n",
    "                multiplicity = multiplicity+1\n",
    "            counter=counter+1\n",
    "            \"\"\"\n",
    "            \"\"\"\n",
    "            \"\"\"\n",
    "            Implement the Metropolis Hastings algorithm here following the pseudo-code in the script.\n",
    "            Use the following code fragment to write out the data in case a step is accepted\n",
    "            (either to the screen or a file):\n",
    "            \"\"\"\n",
    "            if write_file == True:\n",
    "                chain.write(\"%d %d %.2f %.6f %.2f %.6f %.6f\\n\" %(counter, multiplicity, old_chi_sq, self.params[0], self.params[1],a,b))\n",
    "            else:\n",
    "                print(\"%d %d %.2f %.2e %.2f %.6f %.6f\" %(counter, multiplicity, old_chi_sq, 10.**self.params[0], self.params[1],a,b))\n",
    "            \"\"\"\n",
    "            \"\"\"\n",
    "            \"\"\"\n",
    "            \"\"\"\n",
    "        print (\"-\"*40)\n",
    "        print (\"chain finished after %d steps\" %NSTEP)\n",
    "        if write_file == True:\n",
    "            chain.close()\n"
   ]
  },
  {
   "cell_type": "code",
   "execution_count": 11,
   "metadata": {},
   "outputs": [],
   "source": [
    "samplerinstance = Sampler()"
   ]
  },
  {
   "cell_type": "code",
   "execution_count": 12,
   "metadata": {},
   "outputs": [
    {
     "name": "stdout",
     "output_type": "stream",
     "text": [
      "----------------------------------------\n",
      "chain finished after 1000 steps\n"
     ]
    }
   ],
   "source": [
    "samplerinstance.MCMC(1000,write_file=True,filename='chain.txt')"
   ]
  },
  {
   "cell_type": "code",
   "execution_count": 13,
   "metadata": {},
   "outputs": [
    {
     "ename": "FileNotFoundError",
     "evalue": "File b'chain2.txt' does not exist",
     "output_type": "error",
     "traceback": [
      "\u001b[1;31m---------------------------------------------------------------------------\u001b[0m",
      "\u001b[1;31mFileNotFoundError\u001b[0m                         Traceback (most recent call last)",
      "\u001b[1;32m<ipython-input-13-7521ff3d1fec>\u001b[0m in \u001b[0;36m<module>\u001b[1;34m()\u001b[0m\n\u001b[0;32m      1\u001b[0m \u001b[1;32mimport\u001b[0m \u001b[0mpandas\u001b[0m \u001b[1;32mas\u001b[0m \u001b[0mpd\u001b[0m\u001b[1;33m\u001b[0m\u001b[0m\n\u001b[0;32m      2\u001b[0m \u001b[0mdata1\u001b[0m \u001b[1;33m=\u001b[0m \u001b[0mpd\u001b[0m\u001b[1;33m.\u001b[0m\u001b[0mread_table\u001b[0m\u001b[1;33m(\u001b[0m\u001b[1;34m'chain.txt'\u001b[0m\u001b[1;33m,\u001b[0m\u001b[0msep\u001b[0m\u001b[1;33m=\u001b[0m\u001b[1;34m' '\u001b[0m\u001b[1;33m)\u001b[0m\u001b[1;33m\u001b[0m\u001b[0m\n\u001b[1;32m----> 3\u001b[1;33m \u001b[0mdata2\u001b[0m \u001b[1;33m=\u001b[0m \u001b[0mpd\u001b[0m\u001b[1;33m.\u001b[0m\u001b[0mread_table\u001b[0m\u001b[1;33m(\u001b[0m\u001b[1;34m'chain2.txt'\u001b[0m\u001b[1;33m,\u001b[0m\u001b[0msep\u001b[0m\u001b[1;33m=\u001b[0m\u001b[1;34m' '\u001b[0m\u001b[1;33m)\u001b[0m\u001b[1;33m\u001b[0m\u001b[0m\n\u001b[0m\u001b[0;32m      4\u001b[0m \u001b[0mdata3\u001b[0m \u001b[1;33m=\u001b[0m \u001b[0mpd\u001b[0m\u001b[1;33m.\u001b[0m\u001b[0mread_table\u001b[0m\u001b[1;33m(\u001b[0m\u001b[1;34m'chain3.txt'\u001b[0m\u001b[1;33m,\u001b[0m\u001b[0msep\u001b[0m\u001b[1;33m=\u001b[0m\u001b[1;34m' '\u001b[0m\u001b[1;33m)\u001b[0m \u001b[1;31m#SD has been increased to 0.5 for both parameters\u001b[0m\u001b[1;33m\u001b[0m\u001b[0m\n",
      "\u001b[1;32m~\\Anaconda3\\lib\\site-packages\\pandas\\io\\parsers.py\u001b[0m in \u001b[0;36mparser_f\u001b[1;34m(filepath_or_buffer, sep, delimiter, header, names, index_col, usecols, squeeze, prefix, mangle_dupe_cols, dtype, engine, converters, true_values, false_values, skipinitialspace, skiprows, nrows, na_values, keep_default_na, na_filter, verbose, skip_blank_lines, parse_dates, infer_datetime_format, keep_date_col, date_parser, dayfirst, iterator, chunksize, compression, thousands, decimal, lineterminator, quotechar, quoting, escapechar, comment, encoding, dialect, tupleize_cols, error_bad_lines, warn_bad_lines, skipfooter, doublequote, delim_whitespace, low_memory, memory_map, float_precision)\u001b[0m\n\u001b[0;32m    676\u001b[0m                     skip_blank_lines=skip_blank_lines)\n\u001b[0;32m    677\u001b[0m \u001b[1;33m\u001b[0m\u001b[0m\n\u001b[1;32m--> 678\u001b[1;33m         \u001b[1;32mreturn\u001b[0m \u001b[0m_read\u001b[0m\u001b[1;33m(\u001b[0m\u001b[0mfilepath_or_buffer\u001b[0m\u001b[1;33m,\u001b[0m \u001b[0mkwds\u001b[0m\u001b[1;33m)\u001b[0m\u001b[1;33m\u001b[0m\u001b[0m\n\u001b[0m\u001b[0;32m    679\u001b[0m \u001b[1;33m\u001b[0m\u001b[0m\n\u001b[0;32m    680\u001b[0m     \u001b[0mparser_f\u001b[0m\u001b[1;33m.\u001b[0m\u001b[0m__name__\u001b[0m \u001b[1;33m=\u001b[0m \u001b[0mname\u001b[0m\u001b[1;33m\u001b[0m\u001b[0m\n",
      "\u001b[1;32m~\\Anaconda3\\lib\\site-packages\\pandas\\io\\parsers.py\u001b[0m in \u001b[0;36m_read\u001b[1;34m(filepath_or_buffer, kwds)\u001b[0m\n\u001b[0;32m    438\u001b[0m \u001b[1;33m\u001b[0m\u001b[0m\n\u001b[0;32m    439\u001b[0m     \u001b[1;31m# Create the parser.\u001b[0m\u001b[1;33m\u001b[0m\u001b[1;33m\u001b[0m\u001b[0m\n\u001b[1;32m--> 440\u001b[1;33m     \u001b[0mparser\u001b[0m \u001b[1;33m=\u001b[0m \u001b[0mTextFileReader\u001b[0m\u001b[1;33m(\u001b[0m\u001b[0mfilepath_or_buffer\u001b[0m\u001b[1;33m,\u001b[0m \u001b[1;33m**\u001b[0m\u001b[0mkwds\u001b[0m\u001b[1;33m)\u001b[0m\u001b[1;33m\u001b[0m\u001b[0m\n\u001b[0m\u001b[0;32m    441\u001b[0m \u001b[1;33m\u001b[0m\u001b[0m\n\u001b[0;32m    442\u001b[0m     \u001b[1;32mif\u001b[0m \u001b[0mchunksize\u001b[0m \u001b[1;32mor\u001b[0m \u001b[0miterator\u001b[0m\u001b[1;33m:\u001b[0m\u001b[1;33m\u001b[0m\u001b[0m\n",
      "\u001b[1;32m~\\Anaconda3\\lib\\site-packages\\pandas\\io\\parsers.py\u001b[0m in \u001b[0;36m__init__\u001b[1;34m(self, f, engine, **kwds)\u001b[0m\n\u001b[0;32m    785\u001b[0m             \u001b[0mself\u001b[0m\u001b[1;33m.\u001b[0m\u001b[0moptions\u001b[0m\u001b[1;33m[\u001b[0m\u001b[1;34m'has_index_names'\u001b[0m\u001b[1;33m]\u001b[0m \u001b[1;33m=\u001b[0m \u001b[0mkwds\u001b[0m\u001b[1;33m[\u001b[0m\u001b[1;34m'has_index_names'\u001b[0m\u001b[1;33m]\u001b[0m\u001b[1;33m\u001b[0m\u001b[0m\n\u001b[0;32m    786\u001b[0m \u001b[1;33m\u001b[0m\u001b[0m\n\u001b[1;32m--> 787\u001b[1;33m         \u001b[0mself\u001b[0m\u001b[1;33m.\u001b[0m\u001b[0m_make_engine\u001b[0m\u001b[1;33m(\u001b[0m\u001b[0mself\u001b[0m\u001b[1;33m.\u001b[0m\u001b[0mengine\u001b[0m\u001b[1;33m)\u001b[0m\u001b[1;33m\u001b[0m\u001b[0m\n\u001b[0m\u001b[0;32m    788\u001b[0m \u001b[1;33m\u001b[0m\u001b[0m\n\u001b[0;32m    789\u001b[0m     \u001b[1;32mdef\u001b[0m \u001b[0mclose\u001b[0m\u001b[1;33m(\u001b[0m\u001b[0mself\u001b[0m\u001b[1;33m)\u001b[0m\u001b[1;33m:\u001b[0m\u001b[1;33m\u001b[0m\u001b[0m\n",
      "\u001b[1;32m~\\Anaconda3\\lib\\site-packages\\pandas\\io\\parsers.py\u001b[0m in \u001b[0;36m_make_engine\u001b[1;34m(self, engine)\u001b[0m\n\u001b[0;32m   1012\u001b[0m     \u001b[1;32mdef\u001b[0m \u001b[0m_make_engine\u001b[0m\u001b[1;33m(\u001b[0m\u001b[0mself\u001b[0m\u001b[1;33m,\u001b[0m \u001b[0mengine\u001b[0m\u001b[1;33m=\u001b[0m\u001b[1;34m'c'\u001b[0m\u001b[1;33m)\u001b[0m\u001b[1;33m:\u001b[0m\u001b[1;33m\u001b[0m\u001b[0m\n\u001b[0;32m   1013\u001b[0m         \u001b[1;32mif\u001b[0m \u001b[0mengine\u001b[0m \u001b[1;33m==\u001b[0m \u001b[1;34m'c'\u001b[0m\u001b[1;33m:\u001b[0m\u001b[1;33m\u001b[0m\u001b[0m\n\u001b[1;32m-> 1014\u001b[1;33m             \u001b[0mself\u001b[0m\u001b[1;33m.\u001b[0m\u001b[0m_engine\u001b[0m \u001b[1;33m=\u001b[0m \u001b[0mCParserWrapper\u001b[0m\u001b[1;33m(\u001b[0m\u001b[0mself\u001b[0m\u001b[1;33m.\u001b[0m\u001b[0mf\u001b[0m\u001b[1;33m,\u001b[0m \u001b[1;33m**\u001b[0m\u001b[0mself\u001b[0m\u001b[1;33m.\u001b[0m\u001b[0moptions\u001b[0m\u001b[1;33m)\u001b[0m\u001b[1;33m\u001b[0m\u001b[0m\n\u001b[0m\u001b[0;32m   1015\u001b[0m         \u001b[1;32melse\u001b[0m\u001b[1;33m:\u001b[0m\u001b[1;33m\u001b[0m\u001b[0m\n\u001b[0;32m   1016\u001b[0m             \u001b[1;32mif\u001b[0m \u001b[0mengine\u001b[0m \u001b[1;33m==\u001b[0m \u001b[1;34m'python'\u001b[0m\u001b[1;33m:\u001b[0m\u001b[1;33m\u001b[0m\u001b[0m\n",
      "\u001b[1;32m~\\Anaconda3\\lib\\site-packages\\pandas\\io\\parsers.py\u001b[0m in \u001b[0;36m__init__\u001b[1;34m(self, src, **kwds)\u001b[0m\n\u001b[0;32m   1706\u001b[0m         \u001b[0mkwds\u001b[0m\u001b[1;33m[\u001b[0m\u001b[1;34m'usecols'\u001b[0m\u001b[1;33m]\u001b[0m \u001b[1;33m=\u001b[0m \u001b[0mself\u001b[0m\u001b[1;33m.\u001b[0m\u001b[0musecols\u001b[0m\u001b[1;33m\u001b[0m\u001b[0m\n\u001b[0;32m   1707\u001b[0m \u001b[1;33m\u001b[0m\u001b[0m\n\u001b[1;32m-> 1708\u001b[1;33m         \u001b[0mself\u001b[0m\u001b[1;33m.\u001b[0m\u001b[0m_reader\u001b[0m \u001b[1;33m=\u001b[0m \u001b[0mparsers\u001b[0m\u001b[1;33m.\u001b[0m\u001b[0mTextReader\u001b[0m\u001b[1;33m(\u001b[0m\u001b[0msrc\u001b[0m\u001b[1;33m,\u001b[0m \u001b[1;33m**\u001b[0m\u001b[0mkwds\u001b[0m\u001b[1;33m)\u001b[0m\u001b[1;33m\u001b[0m\u001b[0m\n\u001b[0m\u001b[0;32m   1709\u001b[0m \u001b[1;33m\u001b[0m\u001b[0m\n\u001b[0;32m   1710\u001b[0m         \u001b[0mpassed_names\u001b[0m \u001b[1;33m=\u001b[0m \u001b[0mself\u001b[0m\u001b[1;33m.\u001b[0m\u001b[0mnames\u001b[0m \u001b[1;32mis\u001b[0m \u001b[1;32mNone\u001b[0m\u001b[1;33m\u001b[0m\u001b[0m\n",
      "\u001b[1;32mpandas\\_libs\\parsers.pyx\u001b[0m in \u001b[0;36mpandas._libs.parsers.TextReader.__cinit__\u001b[1;34m()\u001b[0m\n",
      "\u001b[1;32mpandas\\_libs\\parsers.pyx\u001b[0m in \u001b[0;36mpandas._libs.parsers.TextReader._setup_parser_source\u001b[1;34m()\u001b[0m\n",
      "\u001b[1;31mFileNotFoundError\u001b[0m: File b'chain2.txt' does not exist"
     ]
    }
   ],
   "source": [
    "import pandas as pd\n",
    "data1 = pd.read_table('chain.txt',sep=' ')\n",
    "data2 = pd.read_table('chain2.txt',sep=' ')\n",
    "data3 = pd.read_table('chain3.txt',sep=' ') #SD has been increased to 0.5 for both parameters"
   ]
  },
  {
   "cell_type": "code",
   "execution_count": null,
   "metadata": {},
   "outputs": [],
   "source": [
    "plt.plot(data1['M200'],label = 'Chain1 sd=0.1');\n",
    "plt.plot(data2['M200'],label = 'Chain2 sd=0.1');\n",
    "plt.plot(data3['M200'],label = 'Chain3 sd=0.5');\n",
    "plt.legend(loc='best');\n",
    "plt.ylabel('logM');\n",
    "plt.xlabel('Step');"
   ]
  },
  {
   "cell_type": "code",
   "execution_count": 160,
   "metadata": {},
   "outputs": [
    {
     "data": {
      "image/png": "[encoded data removed]",
      "text/plain": [
       "<Figure size 432x288 with 1 Axes>"
      ]
     },
     "metadata": {},
     "output_type": "display_data"
    }
   ],
   "source": [
    "plt.plot(data1['c200'],label = 'Chain1 var=0.1');\n",
    "plt.plot(data2['c200'],label = 'Chain2 var=0.1');\n",
    "plt.plot(data3['c200'],label = 'Chain3 var=0.5');\n",
    "plt.legend(loc='best');\n",
    "plt.ylabel('C');\n",
    "plt.xlabel('Step');"
   ]
  },
  {
   "cell_type": "code",
   "execution_count": 14,
   "metadata": {},
   "outputs": [
    {
     "data": {
      "image/png": "[encoded data removed]",
      "text/plain": [
       "<Figure size 432x288 with 2 Axes>"
      ]
     },
     "metadata": {
      "needs_background": "light"
     },
     "output_type": "display_data"
    }
   ],
   "source": [
    "hist = plt.hist2d(data1['c200'][200:], data1['M200'][200:],bins=(20,20))\n",
    "plt.colorbar(hist[3])\n",
    "plt.title('2D Histogram for logM and c values for chain1');"
   ]
  },
  {
   "cell_type": "code",
   "execution_count": 167,
   "metadata": {},
   "outputs": [
    {
     "name": "stdout",
     "output_type": "stream",
     "text": [
      "15.00431394999995\n",
      "0.019466412528506515\n",
      "2.6265499999999857\n",
      "0.1767430267365607\n",
      "800\n"
     ]
    }
   ],
   "source": [
    "print(np.mean(data2['M200'][200:]))\n",
    "print(np.std(data2['M200'][200:]))\n",
    "print(np.mean(data2['c200'][200:]))\n",
    "print(np.std(data2['c200'][200:]))\n",
    "print(len(data2['c200'][200:]))"
   ]
  },
  {
   "cell_type": "markdown",
   "metadata": {},
   "source": [
    "<h2>Plotting and analysis</h2>\n"
   ]
  },
  {
   "cell_type": "code",
   "execution_count": 15,
   "metadata": {},
   "outputs": [
    {
     "name": "stdout",
     "output_type": "stream",
     "text": [
      "Removed no burn in\n"
     ]
    }
   ],
   "source": [
    "from getdist import plots, MCSamples\n",
    "import getdist, IPython\n",
    "import os\n",
    "import matplotlib.pylab as plt\n",
    "%matplotlib inline\n",
    "\n",
    "#This just creates some random mock data we use for demonstration purposes\n",
    "ndim = 4\n",
    "nsamp = 10000\n",
    "np.random.seed(10)\n",
    "A = np.random.rand(ndim,ndim)\n",
    "cov = np.dot(A, A.T)\n",
    "samps = np.random.multivariate_normal([0]*ndim, cov, size=nsamp)\n",
    "\n",
    "# now we create some names and LaTeX labels\n",
    "names = [\"x%s\"%i for i in range(ndim)]\n",
    "labels =  [\"x_%s\"%i for i in range(ndim)]\n",
    "samples = MCSamples(samples=samps,names = names, labels = labels)\n",
    "\n",
    "# save the mock chains\n",
    "samples.saveAsText('chain_example')"
   ]
  },
  {
   "cell_type": "code",
   "execution_count": 16,
   "metadata": {},
   "outputs": [
    {
     "name": "stdout",
     "output_type": "stream",
     "text": [
      "Removed no burn in\n"
     ]
    },
    {
     "name": "stderr",
     "output_type": "stream",
     "text": [
      "C:\\Users\\vip\\Anaconda3\\lib\\site-packages\\ipykernel_launcher.py:6: RuntimeWarning: divide by zero encountered in log\n",
      "  \n",
      "C:\\Users\\vip\\Anaconda3\\lib\\site-packages\\getdist\\mcsamples.py:2041: RuntimeWarning: invalid value encountered in subtract\n",
      "  m.logMeanLike = -np.log(self.mean(np.exp(-(self.loglikes - maxlike)))) + maxlike\n",
      "C:\\Users\\vip\\Anaconda3\\lib\\site-packages\\getdist\\mcsamples.py:2043: RuntimeWarning: invalid value encountered in subtract\n",
      "  m.complexity = 2 * (self.mean_loglike - maxlike)\n"
     ]
    }
   ],
   "source": [
    "# load the chain\n",
    "chain = np.loadtxt('chain.txt')\n",
    "names = ['#counter','multiplicity','chi2','logM200','c200','a','b']\n",
    "labels =  ['#counter','multiplicity','chi2','logM200','c200','a','b']\n",
    "# Note that the chain in this example contains the weights and log-likelihood as the first two columns\n",
    "samples = MCSamples(samples=chain[200:],names = names, labels=labels, loglikes = np.log(chain[200:,5:6]),weights=1)\n",
    "\n",
    "# create a new Plotter object\n",
    "g = plots.getSubplotPlotter(subplot_size=3)"
   ]
  },
  {
   "cell_type": "markdown",
   "metadata": {},
   "source": [
    "Now we can make some plots and save them with `g.export('NAME.PDF')`:"
   ]
  },
  {
   "cell_type": "code",
   "execution_count": 27,
   "metadata": {},
   "outputs": [
    {
     "data": {
      "image/png": "[encoded data removed]",
      "text/plain": [
       "<Figure size 432x288 with 1 Axes>"
      ]
     },
     "metadata": {
      "needs_background": "light"
     },
     "output_type": "display_data"
    }
   ],
   "source": [
    "# Note: you always refer to parameter with the name, the plot will show the label\n",
    "g.plot_2d(samples, 'logM200', 'c200',filled=True)\n",
    "g.export('2d_plot.png')"
   ]
  },
  {
   "cell_type": "code",
   "execution_count": 18,
   "metadata": {},
   "outputs": [
    {
     "name": "stderr",
     "output_type": "stream",
     "text": [
      "WARNING:root:auto bandwidth for logM200 very small or failed (h=0.0005169577540887596,N_eff=99.2132097601751). Using fallback (h=0.047082686426485894)\n"
     ]
    },
    {
     "data": {
      "image/png": "[encoded data removed]",
      "text/plain": [
       "<Figure size 432x288 with 1 Axes>"
      ]
     },
     "metadata": {
      "needs_background": "light"
     },
     "output_type": "display_data"
    }
   ],
   "source": [
    "g.plot_1d(samples, 'logM200',filled=True)\n",
    "g.export('1d_plot_logM.png')"
   ]
  },
  {
   "cell_type": "code",
   "execution_count": 19,
   "metadata": {},
   "outputs": [
    {
     "name": "stderr",
     "output_type": "stream",
     "text": [
      "WARNING:root:auto bandwidth for c200 very small or failed (h=0.0004930435209875398,N_eff=95.89760962631294). Using fallback (h=0.03447999642159506)\n"
     ]
    },
    {
     "data": {
      "image/png": "[encoded data removed]",
      "text/plain": [
       "<Figure size 432x288 with 1 Axes>"
      ]
     },
     "metadata": {
      "needs_background": "light"
     },
     "output_type": "display_data"
    }
   ],
   "source": [
    "g.plot_1d(samples, 'c200',filled=True)\n",
    "g.export('1d_plot_c.png')"
   ]
  }
 ],
 "metadata": {
  "anaconda-cloud": {},
  "kernel_info": {
   "name": "python2"
  },
  "kernelspec": {
   "display_name": "Python 3",
   "language": "python",
   "name": "python3"
  },
  "language_info": {
   "codemirror_mode": {
    "name": "ipython",
    "version": 3
   },
   "file_extension": ".py",
   "mimetype": "text/x-python",
   "name": "python",
   "nbconvert_exporter": "python",
   "pygments_lexer": "ipython3",
   "version": "3.6.8"
  }
 },
 "nbformat": 4,
 "nbformat_minor": 2
}
